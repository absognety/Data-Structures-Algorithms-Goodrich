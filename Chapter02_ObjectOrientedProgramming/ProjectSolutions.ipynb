{
 "cells": [
  {
   "cell_type": "markdown",
   "metadata": {},
   "source": [
    "###### Project Solutions\n",
    "\n",
    "**P-2.33 to P-2.39**"
   ]
  },
  {
   "cell_type": "code",
   "execution_count": 2,
   "metadata": {
    "collapsed": false
   },
   "outputs": [
    {
     "name": "stdout",
     "output_type": "stream",
     "text": [
      "1 1 1 1\n",
      "   2\n",
      "3 x + 2 x + 1\n",
      " \n",
      "6 x + 2\n",
      " \n",
      "6\n"
     ]
    }
   ],
   "source": [
    "# P-2.33\n",
    "\n",
    "import numpy as np\n",
    "# co-efficients of terms as inputs\n",
    "co_efs = list(map(int,input().strip().split()))\n",
    "\n",
    "#class of 1-dimensional polynomials\n",
    "P = np.poly1d(co_efs)\n",
    "\n",
    "#Derivative of a polynomial formed with given co-efficients\n",
    "derivative = np.polyder(P)\n",
    "print (derivative)\n",
    "\n",
    "derivative2 = np.polyder(P,2)\n",
    "print (derivative2)\n",
    "\n",
    "derivative3 = np.polyder(P,3)\n",
    "print (derivative3)"
   ]
  },
  {
   "cell_type": "code",
   "execution_count": 5,
   "metadata": {
    "collapsed": false
   },
   "outputs": [
    {
     "name": "stdout",
     "output_type": "stream",
     "text": [
      "hello good morning\n",
      "{'d': 1, 'e': 1, 'g': 2, 'h': 1, 'i': 1, 'l': 2, 'm': 1, 'n': 2, 'o': 4, 'r': 1}\n"
     ]
    }
   ],
   "source": [
    "# P-2.34\n",
    "\n",
    "import string\n",
    "document = input()\n",
    "\n",
    "alphabets = string.ascii_lowercase\n",
    "document = document.lower()\n",
    "\n",
    "letter_freqs = {}\n",
    "for alphabet in alphabets:\n",
    "    if alphabet in document:\n",
    "        letter_freqs[alphabet] = document.count(alphabet)"
   ]
  },
  {
   "cell_type": "code",
   "execution_count": 6,
   "metadata": {
    "collapsed": false
   },
   "outputs": [
    {
     "data": {
      "image/png": "[encoded data removed]",
      "text/plain": [
       "<matplotlib.figure.Figure at 0x1930af23a90>"
      ]
     },
     "metadata": {},
     "output_type": "display_data"
    }
   ],
   "source": [
    "import matplotlib.pyplot as plt\n",
    "plt.bar(range(len(letter_freqs)), list(letter_freqs.values()), align='center')\n",
    "plt.xticks(range(len(letter_freqs)), list(letter_freqs.keys()))\n",
    "plt.show()"
   ]
  },
  {
   "cell_type": "code",
   "execution_count": null,
   "metadata": {
    "collapsed": true
   },
   "outputs": [],
   "source": [
    "# P-2.35\n",
    "\n"
   ]
  }
 ],
 "metadata": {
  "kernelspec": {
   "display_name": "Python 3",
   "language": "python",
   "name": "python3"
  },
  "language_info": {
   "codemirror_mode": {
    "name": "ipython",
    "version": 3
   },
   "file_extension": ".py",
   "mimetype": "text/x-python",
   "name": "python",
   "nbconvert_exporter": "python",
   "pygments_lexer": "ipython3",
   "version": "3.6.6"
  }
 },
 "nbformat": 4,
 "nbformat_minor": 2
}
