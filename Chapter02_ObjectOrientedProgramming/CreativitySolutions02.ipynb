{
 "cells": [
  {
   "cell_type": "markdown",
   "metadata": {},
   "source": [
    "#### Creativity Solutions\n",
    "\n",
    "###### C-2.24-2.32"
   ]
  },
  {
   "cell_type": "code",
   "execution_count": 5,
   "metadata": {
    "collapsed": false
   },
   "outputs": [
    {
     "name": "stdout",
     "output_type": "stream",
     "text": [
      "<34, 89, 0, 41, 21>\n",
      "<0, 32, 19, 38, 10>\n",
      "4616\n",
      "[340, 890, 0, 410, 210]\n",
      "[0, 320, 190, 380, 100]\n"
     ]
    }
   ],
   "source": [
    "# C-2.25\n",
    "\n",
    "class Vector():\n",
    "    \"\"\"Represent a Vector in Multi-Dimensional Space\"\"\"\n",
    "    \n",
    "    def __init__(self,d):\n",
    "        \"\"\"Initializes a d-dimensional vector\"\"\"\n",
    "        self._coords = [0]*d\n",
    "        \n",
    "    def __len__(self):\n",
    "        \"\"\"Returns the dimension of the vector\"\"\"\n",
    "        return (len(self._coords))\n",
    "    \n",
    "    def __getitem__(self,j):\n",
    "        \"\"\"Returns the jth co-ordinate of a vector\"\"\"\n",
    "        return (self._coords[j])\n",
    "    \n",
    "    def __setitem__(self,j,val):\n",
    "        \"\"\"Assigns a value to jth location of a vector\"\"\"\n",
    "        self._coords[j] = val\n",
    "        \n",
    "    def __add__(self,other):\n",
    "        \"\"\"Returns the sum of two vectors\"\"\"\n",
    "        \n",
    "        if (len(other)!=len(self)):\n",
    "            raise ValueError(\"dimensions must match\")\n",
    "        result = Vector(len(self))\n",
    "        for g in range(len(self)):\n",
    "            result[g] = other[g] + self[g]\n",
    "        return result\n",
    "    \n",
    "    def __mul__(self,entity):\n",
    "        \"\"\"\n",
    "        Runtime check if entity is a vector or a scalar\n",
    "        \"\"\"\n",
    "        product=0\n",
    "        result_mul=[0]*len(self)\n",
    "        if isinstance(entity,Vector):\n",
    "            if (len(entity)!=len(self)):\n",
    "                raise ValueError('The dimension must match')\n",
    "            else:\n",
    "                for g in range(len(self)):\n",
    "                    product+=(self.__getitem__(g)*entity.__getitem__(g))\n",
    "            return (product)\n",
    "        \n",
    "        elif(isinstance(entity,(int,float))):\n",
    "            for h in range(len(self)):\n",
    "                result_mul[h]=self[h]*entity\n",
    "            return (result_mul)\n",
    "    \n",
    "    def __eq__(self,other):\n",
    "        \"\"\"Returns the boolean value if equal/not equal\"\"\"\n",
    "        return (self._coords==other._coords)\n",
    "    \n",
    "    def __ne__(self,other):\n",
    "        \"\"\"Return True if Vector differs from Other\"\"\"\n",
    "        return not self==other\n",
    "    \n",
    "    def __str__(self):\n",
    "        \"\"\"Returns the string Representation\"\"\"\n",
    "        return ('<' + str(self._coords)[1:-1] + '>')\n",
    "    \n",
    "X = Vector(5)\n",
    "X.__setitem__(0,34)\n",
    "X.__setitem__(1,89)\n",
    "X.__setitem__(4,21)\n",
    "X.__setitem__(3,41)\n",
    "print (X.__str__())\n",
    "Y = Vector(5)\n",
    "Y.__setitem__(2,19)\n",
    "Y.__setitem__(1,32)\n",
    "Y.__setitem__(3,38)\n",
    "Y.__setitem__(4,10)\n",
    "print (Y.__str__())\n",
    "\n",
    "print (Y.__mul__(X))\n",
    "\n",
    "print (X.__mul__(10))\n",
    "print (Y.__mul__(10))"
   ]
  },
  {
   "cell_type": "code",
   "execution_count": 6,
   "metadata": {
    "collapsed": false
   },
   "outputs": [
    {
     "name": "stdout",
     "output_type": "stream",
     "text": [
      "12\n",
      "5\n",
      "10\n",
      "6\n",
      "3\n"
     ]
    }
   ],
   "source": [
    "# C-2.26\n",
    "\n",
    "class ReversedSequenceIterator():\n",
    "    \"\"\"An iterator for any of Python's sequence types.\"\"\"\n",
    "    \n",
    "    def __init__(self,sequence):\n",
    "        \"\"\"Create an iterator for the given sequence.\"\"\"\n",
    "        self._seq = sequence[::-1] # keep a reference to the underlying data\n",
    "        self._k = -1 # will increment to 0 on first call to next\n",
    "        \n",
    "    def __next__(self):\n",
    "        \"\"\"Return the next element, or else raise StopIteration error.\"\"\"\n",
    "        self._k += 1 # advance to next index\n",
    "        if self._k < len(self._seq):\n",
    "            return(self._seq[self._k]) # return the data element\n",
    "        else:\n",
    "            raise StopIteration() # there are no more elements\n",
    "            \n",
    "    def __iter__(self):\n",
    "        \"\"\"By convention, an iterator must return itself as an iterator.\"\"\"\n",
    "        return self\n",
    "    \n",
    "V = ReversedSequenceIterator([1,8,3,6,10,5,12])\n",
    "print (V.__next__())\n",
    "print (V.__next__())\n",
    "print (V.__next__())\n",
    "print (V.__next__())\n",
    "print (V.__next__())"
   ]
  },
  {
   "cell_type": "code",
   "execution_count": null,
   "metadata": {
    "collapsed": true
   },
   "outputs": [],
   "source": []
  }
 ],
 "metadata": {
  "kernelspec": {
   "display_name": "Python 3",
   "language": "python",
   "name": "python3"
  },
  "language_info": {
   "codemirror_mode": {
    "name": "ipython",
    "version": 3
   },
   "file_extension": ".py",
   "mimetype": "text/x-python",
   "name": "python",
   "nbconvert_exporter": "python",
   "pygments_lexer": "ipython3",
   "version": "3.6.6"
  }
 },
 "nbformat": 4,
 "nbformat_minor": 2
}
