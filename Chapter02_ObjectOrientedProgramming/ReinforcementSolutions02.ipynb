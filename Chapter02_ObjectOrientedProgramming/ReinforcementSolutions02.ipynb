{
 "cells": [
  {
   "cell_type": "markdown",
   "metadata": {
    "collapsed": true
   },
   "source": [
    "#### R-2.1\n",
    "\n",
    "The three main examples of life-critical software applications are:\n",
    "\n",
    "1. ISO 26262\n",
    "2. IEC 62304\n",
    "3. IEC 61513"
   ]
  },
  {
   "cell_type": "markdown",
   "metadata": {},
   "source": [
    "#### R-2.2\n",
    "\n",
    "Microsoft Office"
   ]
  },
  {
   "cell_type": "markdown",
   "metadata": {},
   "source": [
    "#### R-2.3\n",
    "\n",
    "1. Find and Replace - Text editors provide extensive facilities for searching and replacing text, either on groups of files or interactively.\n",
    "\n",
    "2. Advanced Editors use regular expressions to find or edit text or code.\n",
    "\n",
    "3. Cut, Copy and Paste - Most Text editors provide methods to duplicate or move text within the file or between the files. Ability to handle UTF-8 encoded text.\n",
    "\n",
    "4. Text formatting – Text editors often provide basic formatting features like line wrap, auto-indentation, bullet list formatting using ASCII characters, comment formatting, syntax highlighting etc.\n",
    "\n",
    "5. Undo and redo – As with word processors, text editors provide a way to undo and redo the last edit. Often—especially with older text editors—there is only one level of edit history remembered and successively issuing the undo command will only \"toggle\" the last change. Modern or more complex editors usually provide a multiple level history such that issuing the undo command repeatedly will revert the document to successively older edits. A separate redo command will cycle the edits..."
   ]
  }
 ],
 "metadata": {
  "kernelspec": {
   "display_name": "Python 3",
   "language": "python",
   "name": "python3"
  },
  "language_info": {
   "codemirror_mode": {
    "name": "ipython",
    "version": 3
   },
   "file_extension": ".py",
   "mimetype": "text/x-python",
   "name": "python",
   "nbconvert_exporter": "python",
   "pygments_lexer": "ipython3",
   "version": "3.6.6"
  }
 },
 "nbformat": 4,
 "nbformat_minor": 2
}
