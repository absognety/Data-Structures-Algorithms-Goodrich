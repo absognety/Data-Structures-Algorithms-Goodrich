{
 "cells": [
  {
   "cell_type": "code",
   "execution_count": 1,
   "metadata": {
    "collapsed": true
   },
   "outputs": [],
   "source": [
    "class CreditCard():\n",
    "    \n",
    "    \"\"\"A Consumer Credit Card\"\"\"\n",
    "    \n",
    "    def __init__(self,customer,bank,acnt,limit):\n",
    "        \"\"\"\n",
    "        Create a new Credit Card Instance\n",
    "        \n",
    "        The initial balance is Zero\n",
    "        customer - the name of the customer (e.g., John Bowman )\n",
    "        bank - the name of the bank (e.g., California Savings )\n",
    "        acnt - the acount identifier (e.g., 5391 0375 9387 5309 )\n",
    "        limit credit limit (measured in dollars)\n",
    "        \n",
    "        \"\"\"\n",
    "        self._customer = customer\n",
    "        self._bank = bank\n",
    "        self._account = acnt\n",
    "        self._limit = limit\n",
    "        self._balance = 0\n",
    "         \n",
    "    def get_customer(self):\n",
    "        \n",
    "        \"\"\"get the name of the customer\"\"\"\n",
    "        \n",
    "        return (self._customer)\n",
    "    \n",
    "    def get_bank(self):\n",
    "        \n",
    "        \"\"\"Returns the bank's name\"\"\"\n",
    "        \n",
    "        return (self._bank)\n",
    "    \n",
    "    def get_account(self):\n",
    "        \n",
    "        \"\"\"Returns the card identifying number (String)\"\"\"\n",
    "        \n",
    "        return (self._account)\n",
    "    \n",
    "    def get_limit(self):\n",
    "        \n",
    "        \"\"\"Returns the current credit limit\"\"\"\n",
    "        \n",
    "        return (self._limit)\n",
    "    \n",
    "    def get_balance(self):\n",
    "        \n",
    "        \"\"\"Returns the current balance\"\"\"\n",
    "        \n",
    "        return (self._balance)\n",
    "    \n",
    "    def charge(self,price):\n",
    "        \n",
    "        \"\"\"\n",
    "        Charge given price to the card, assuming sufficient credit limit.\n",
    "        Return True if charge was processed; False if charge was denied.\n",
    "        \n",
    "        \"\"\"\n",
    "        if price + self._balance > self._limit:\n",
    "            return False\n",
    "        else:\n",
    "            self._balance+=price\n",
    "            return True\n",
    "        \n",
    "    def make_payment(self,amount):\n",
    "        \n",
    "        \"\"\"\n",
    "        Makes payment that reduces balance\n",
    "        \"\"\"\n",
    "        \n",
    "        self._balance = self._balance-amount"
   ]
  },
  {
   "cell_type": "code",
   "execution_count": 2,
   "metadata": {
    "collapsed": true
   },
   "outputs": [],
   "source": [
    "cc = CreditCard('John Doe', '1st Bank' , '5391 0375 9387 5309' , 1000)"
   ]
  },
  {
   "cell_type": "code",
   "execution_count": 3,
   "metadata": {
    "collapsed": false
   },
   "outputs": [
    {
     "name": "stdout",
     "output_type": "stream",
     "text": [
      "Customer =  John Bowman\n",
      "Bank =  California Savings\n",
      "Account =  5391 0375 9387 5309\n",
      "Limit =  2500\n",
      "Balance =  190\n",
      "New balance =  90\n",
      "\n",
      "Customer =  John Bowman\n",
      "Bank =  California Federal\n",
      "Account =  3485 0399 3395 1954\n",
      "Limit =  3500\n",
      "Balance =  380\n",
      "New balance =  280\n",
      "New balance =  180\n",
      "New balance =  80\n",
      "\n",
      "Customer =  John Bowman\n",
      "Bank =  California Finance\n",
      "Account =  5391 0375 9387 5309\n",
      "Limit =  5000\n",
      "Balance =  570\n",
      "New balance =  470\n",
      "New balance =  370\n",
      "New balance =  270\n",
      "New balance =  170\n",
      "New balance =  70\n",
      "\n"
     ]
    }
   ],
   "source": [
    "\n",
    "if __name__ == '__main__' :\n",
    "    wallet = []\n",
    "    wallet.append(CreditCard('John Bowman','California Savings',\n",
    "                             '5391 0375 9387 5309' , 2500))\n",
    "    wallet.append(CreditCard('John Bowman','California Federal',\n",
    "                             '3485 0399 3395 1954' , 3500))\n",
    "    wallet.append(CreditCard('John Bowman','California Finance',\n",
    "                             '5391 0375 9387 5309' , 5000))\n",
    "    \n",
    "    for val in range(1,20):\n",
    "        wallet[0].charge(val)\n",
    "        wallet[1].charge(2*val)\n",
    "        wallet[2].charge(3*val)\n",
    "        \n",
    "    for c in range(3):\n",
    "        print('Customer = ', wallet[c].get_customer())\n",
    "        print('Bank = ', wallet[c].get_bank())\n",
    "        print('Account = ', wallet[c].get_account())\n",
    "        print('Limit = ', wallet[c].get_limit())\n",
    "        print('Balance = ', wallet[c].get_balance())\n",
    "        while wallet[c].get_balance() > 100:\n",
    "            wallet[c].make_payment(100)\n",
    "            print('New balance = ', wallet[c].get_balance())\n",
    "        print()"
   ]
  }
 ],
 "metadata": {
  "kernelspec": {
   "display_name": "Python 3",
   "language": "python",
   "name": "python3"
  },
  "language_info": {
   "codemirror_mode": {
    "name": "ipython",
    "version": 3
   },
   "file_extension": ".py",
   "mimetype": "text/x-python",
   "name": "python",
   "nbconvert_exporter": "python",
   "pygments_lexer": "ipython3",
   "version": "3.6.6"
  }
 },
 "nbformat": 4,
 "nbformat_minor": 2
}
