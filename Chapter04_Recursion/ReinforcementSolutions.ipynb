{
 "cells": [
  {
   "cell_type": "markdown",
   "metadata": {},
   "source": [
    "#### Recursion - Reinforcement Solutions\n",
    "\n",
    "###### 4.1 - 4.8"
   ]
  },
  {
   "cell_type": "code",
   "execution_count": null,
   "metadata": {
    "collapsed": true
   },
   "outputs": [],
   "source": [
    "#R-4.1\n",
    "\n",
    "arr = list(map(int,input().strip().split()))\n",
    "\n",
    "C = 0\n",
    "reqMax = arr[0]\n",
    "stop = len(arr)-1\n",
    "def findMaxRecursion(arr,C,reqMax):\n",
    "    start = 0\n",
    "    #print(C)\n",
    "    print (reqMax)\n",
    "    if C == stop:\n",
    "        return (reqMax)\n",
    "    else:\n",
    "        reqMax = max(reqMax,arr[start])\n",
    "        C += 1\n",
    "        findMaxRecursion(arr[start+1:],C,reqMax)\n",
    "        \n",
    "findMaxRecursion(arr,C,reqMax)\n",
    "\n",
    "#See the last element that is printed on the console.\n",
    "#finding the maximum element in a list using recursion."
   ]
  }
 ],
 "metadata": {
  "kernelspec": {
   "display_name": "Python 3",
   "language": "python",
   "name": "python3"
  },
  "language_info": {
   "codemirror_mode": {
    "name": "ipython",
    "version": 3
   },
   "file_extension": ".py",
   "mimetype": "text/x-python",
   "name": "python",
   "nbconvert_exporter": "python",
   "pygments_lexer": "ipython3",
   "version": "3.6.8"
  }
 },
 "nbformat": 4,
 "nbformat_minor": 2
}
