{
 "cells": [
  {
   "cell_type": "markdown",
   "metadata": {},
   "source": [
    "# Chapter - 1: Python Primer \n",
    "\n",
    "#### Reinforcement (1.1-1.12)"
   ]
  },
  {
   "cell_type": "code",
   "execution_count": 1,
   "metadata": {
    "collapsed": false
   },
   "outputs": [
    {
     "name": "stdout",
     "output_type": "stream",
     "text": [
      "True\n",
      "True\n",
      "False\n"
     ]
    }
   ],
   "source": [
    "#R-1.1\n",
    "\n",
    "def is_multiple(p,q):\n",
    "    \"\"\"\n",
    "    Write a short Python function, is multiple(n, m), that takes two integer\n",
    "    values and returns True if n is a multiple of m, that is, n = mi for some\n",
    "    integer i, and False otherwise.\n",
    "    \n",
    "    \"\"\" \n",
    "    if (p%q == 0):\n",
    "        return True\n",
    "    return False\n",
    "\n",
    "print (is_multiple(6,2))\n",
    "print (is_multiple(849949492,2))\n",
    "print (is_multiple(157,3))"
   ]
  },
  {
   "cell_type": "code",
   "execution_count": 2,
   "metadata": {
    "collapsed": false
   },
   "outputs": [
    {
     "name": "stdout",
     "output_type": "stream",
     "text": [
      "True\n",
      "False\n"
     ]
    }
   ],
   "source": [
    "#%% R-1.2\n",
    "\n",
    "def is_even(number):\n",
    "    \n",
    "    \"\"\"\n",
    "    Write a short Python function, is even(k), that takes an integer value and\n",
    "    returns True if k is even, and False otherwise. However, your function\n",
    "    cannot use the multiplication, modulo, or division operators.\n",
    "    \n",
    "    \"\"\"\n",
    "    ent = str(number)\n",
    "    length = len(ent)\n",
    "    number_check = all(c.isdigit() for c in ent)\n",
    "    if number_check:\n",
    "        if ((ent[length-1]=='0') | (ent[length-1]=='2') | \n",
    "            (ent[length-1]=='4') | (ent[length-1]=='6') |\n",
    "            (ent[length-1]=='8')):\n",
    "            return True\n",
    "        else:\n",
    "            return False\n",
    "    else:\n",
    "        print ('not a valid number')\n",
    "\n",
    "print (is_even(784))\n",
    "print (is_even(563))"
   ]
  },
  {
   "cell_type": "code",
   "execution_count": 3,
   "metadata": {
    "collapsed": false
   },
   "outputs": [
    {
     "name": "stdout",
     "output_type": "stream",
     "text": [
      "(78, -19)\n",
      "(190, -26)\n",
      "(990, -18)\n"
     ]
    }
   ],
   "source": [
    "#R-1.3\n",
    "def max_min(H):\n",
    "    max_init=H[0]\n",
    "    for i in H:\n",
    "        if (max_init < i):\n",
    "            max_init = i\n",
    "    min_init=H[0]\n",
    "    for i in H:\n",
    "        if (min_init > i):\n",
    "            min_init = i\n",
    "    return (max_init,min_init)\n",
    "\n",
    "def minmax(data):\n",
    "    \n",
    "    \"\"\"\n",
    "    Write a short Python function, minmax(data), that takes a sequence of\n",
    "    one or more numbers, and returns the smallest and largest numbers, in the\n",
    "    form of a tuple of length two. Do not use the built-in functions min or\n",
    "    max in implementing your solution.\n",
    "    \n",
    "    \"\"\"\n",
    "    if (type(data)==list):\n",
    "        return (max_min(data))\n",
    "    elif (type(data)==tuple):\n",
    "        return (max_min(data))\n",
    "    elif (type(data)==set):\n",
    "        alter_data = list(data)\n",
    "        return (max_min(alter_data))\n",
    "    \n",
    "print (minmax([38,78,13,-4,-19,0,1]))\n",
    "print (minmax((-26,152,190,-4,0,20,30)))\n",
    "print (minmax({-8,-18,210,34,82,19,990}))"
   ]
  },
  {
   "cell_type": "code",
   "execution_count": 8,
   "metadata": {
    "collapsed": false
   },
   "outputs": [
    {
     "name": "stdout",
     "output_type": "stream",
     "text": [
      "98021.0\n",
      "38024.0\n",
      "Not a valid entry\n",
      "0\n"
     ]
    }
   ],
   "source": [
    "#R-1.4\n",
    "\n",
    "def sum_squares(n):\n",
    "    if (n<0):\n",
    "        return ('Not a valid entry')\n",
    "    elif (n==0):\n",
    "        return 0\n",
    "    else:\n",
    "        f = n*(n+1)*((2*n)+1)/6\n",
    "        g = n**2\n",
    "        return (f-g)\n",
    "    \n",
    "print (sum_squares(67))\n",
    "print (sum_squares(49))\n",
    "print (sum_squares(-46))\n",
    "print (sum_squares(0))"
   ]
  },
  {
   "cell_type": "code",
   "execution_count": 9,
   "metadata": {
    "collapsed": false
   },
   "outputs": [
    {
     "name": "stdout",
     "output_type": "stream",
     "text": [
      "30\n",
      "328350\n"
     ]
    }
   ],
   "source": [
    "#R-1.5\n",
    "\n",
    "import numpy as np\n",
    "\n",
    "def sum_command(n):\n",
    "    seq = np.array(range(n))\n",
    "    seq = seq**2\n",
    "    return (seq.sum())\n",
    "\n",
    "print (sum_command(5))\n",
    "print (sum_command(100))"
   ]
  },
  {
   "cell_type": "code",
   "execution_count": 1,
   "metadata": {
    "collapsed": false
   },
   "outputs": [
    {
     "name": "stdout",
     "output_type": "stream",
     "text": [
      "10\n",
      "85320\n"
     ]
    }
   ],
   "source": [
    "#R-1.6\n",
    "import numpy as np\n",
    "\n",
    "def sum_odd_pos(n):\n",
    "    seq = list(range(n))\n",
    "    seq = np.array([i for i in seq if i%2!=0])\n",
    "    seq = seq**2\n",
    "    total_sum=0\n",
    "    for i in seq:\n",
    "        total_sum=total_sum+i\n",
    "    return (total_sum)\n",
    "\n",
    "print (sum_odd_pos(5))\n",
    "print (sum_odd_pos(80))"
   ]
  },
  {
   "cell_type": "code",
   "execution_count": 5,
   "metadata": {
    "collapsed": false
   },
   "outputs": [
    {
     "name": "stdout",
     "output_type": "stream",
     "text": [
      "10\n",
      "85320\n"
     ]
    }
   ],
   "source": [
    "#R-1.7\n",
    "import numpy as np\n",
    "\n",
    "def sum_odd_pos_command(n):\n",
    "    seq = list(range(n))\n",
    "    seq = np.array([i for i in seq if i%2!=0])\n",
    "    seq = seq**2\n",
    "    return (seq.sum())\n",
    "\n",
    "print (sum_odd_pos_command(5))\n",
    "print (sum_odd_pos_command(80))"
   ]
  },
  {
   "cell_type": "code",
   "execution_count": 3,
   "metadata": {
    "collapsed": false
   },
   "outputs": [
    {
     "name": "stdout",
     "output_type": "stream",
     "text": [
      "True\n",
      "True\n",
      "True\n"
     ]
    }
   ],
   "source": [
    "#R-1.8\n",
    "#j = n + k\n",
    "seq = 'hey I am good, How are you'\n",
    "n = len(seq)\n",
    "k = -5\n",
    "print (seq[k] == seq[n+k])\n",
    "k = -4\n",
    "print (seq[k] == seq[n+k])\n",
    "k = -n\n",
    "print (seq[k] == seq[n+k])"
   ]
  },
  {
   "cell_type": "code",
   "execution_count": 4,
   "metadata": {
    "collapsed": false
   },
   "outputs": [
    {
     "name": "stdout",
     "output_type": "stream",
     "text": [
      "[50, 60, 70, 80]\n"
     ]
    }
   ],
   "source": [
    "#R-1.9\n",
    "\n",
    "test = list(range(50,90,10))\n",
    "#start=50\n",
    "#stop=90\n",
    "#step=10\n",
    "print (test)"
   ]
  },
  {
   "cell_type": "code",
   "execution_count": 6,
   "metadata": {
    "collapsed": false
   },
   "outputs": [
    {
     "name": "stdout",
     "output_type": "stream",
     "text": [
      "[8, 6, 4, 2, 0, -2, -4, -6, -8]\n"
     ]
    }
   ],
   "source": [
    "#R-1.10\n",
    "\n",
    "test = list(range(8,-10,-2))\n",
    "#start=8\n",
    "#stop=-10\n",
    "#step=-2\n",
    "print (test)"
   ]
  },
  {
   "cell_type": "code",
   "execution_count": 7,
   "metadata": {
    "collapsed": false
   },
   "outputs": [
    {
     "name": "stdout",
     "output_type": "stream",
     "text": [
      "[1, 2, 4, 8, 16, 32, 64, 128, 256]\n"
     ]
    }
   ],
   "source": [
    "#R-1.11\n",
    "\n",
    "test = [2**i for i in range(9)]\n",
    "print (test)"
   ]
  },
  {
   "cell_type": "code",
   "execution_count": 10,
   "metadata": {
    "collapsed": false
   },
   "outputs": [
    {
     "name": "stdout",
     "output_type": "stream",
     "text": [
      "44\n",
      "96\n"
     ]
    }
   ],
   "source": [
    "#R-1.12\n",
    "\n",
    "import random\n",
    "sample1 = random.randrange(1,100,1)\n",
    "print (sample1)\n",
    "sample2 = random.choice(list(range(1,100,1)))\n",
    "print (sample2)"
   ]
  }
 ],
 "metadata": {
  "kernelspec": {
   "display_name": "Python 3",
   "language": "python",
   "name": "python3"
  },
  "language_info": {
   "codemirror_mode": {
    "name": "ipython",
    "version": 3
   },
   "file_extension": ".py",
   "mimetype": "text/x-python",
   "name": "python",
   "nbconvert_exporter": "python",
   "pygments_lexer": "ipython3",
   "version": "3.6.6"
  }
 },
 "nbformat": 4,
 "nbformat_minor": 2
}
