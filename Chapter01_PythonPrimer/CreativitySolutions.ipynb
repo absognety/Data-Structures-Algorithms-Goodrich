{
 "cells": [
  {
   "cell_type": "code",
   "execution_count": 2,
   "metadata": {
    "collapsed": false
   },
   "outputs": [
    {
     "name": "stdout",
     "output_type": "stream",
     "text": [
      "[20, -38, -16, 2, 0, 1, 7, -12, 10, 1, 8]\n",
      "[20, -38, -16, 2, 0, 1, 7, -12, 10, 1, 8]\n",
      "[20, -38, -16, 2, 0, 1, 7, -12, 10, 1, 8]\n"
     ]
    }
   ],
   "source": [
    "#C-1.3\n",
    "\n",
    "def ReversE(X):\n",
    "    return (X[::-1])\n",
    "\n",
    "v = [8,1,10,-12,7,1,0,2,-16,-38,20]\n",
    "\n",
    "print (list(reversed(v)))\n",
    "print (ReversE(v))\n",
    "v.reverse()\n",
    "print (v)"
   ]
  },
  {
   "cell_type": "code",
   "execution_count": 3,
   "metadata": {
    "collapsed": false
   },
   "outputs": [
    {
     "name": "stdout",
     "output_type": "stream",
     "text": [
      "[(3, 7), (3, 9), (3, 1), (3, 13), (3, 29), (3, 31), (3, 37), (3, 11), (7, 9), (7, 1), (7, 13), (7, 29), (7, 31), (7, 37), (7, 11), (9, 7), (9, 1), (9, 13), (9, 29), (9, 31), (9, 37), (9, 11), (1, 7), (1, 9), (1, 13), (1, 29), (1, 31), (1, 37), (1, 11), (13, 7), (13, 9), (13, 1), (13, 29), (13, 31), (13, 37), (13, 11), (29, 7), (29, 9), (29, 1), (29, 13), (29, 31), (29, 37), (29, 11), (31, 7), (31, 9), (31, 1), (31, 13), (31, 29), (31, 37), (31, 11), (37, 7), (37, 9), (37, 1), (37, 13), (37, 29), (37, 31), (37, 11), (11, 7), (11, 9), (11, 1), (11, 13), (11, 29), (11, 31), (11, 37)]\n"
     ]
    }
   ],
   "source": [
    "#C-1.4\n",
    "\n",
    "def odd_product(X):\n",
    "    pairs=[]\n",
    "    for i in X:\n",
    "        for j in X[1:]:\n",
    "            if ((i*j)%2 != 0):\n",
    "                if (i!=j):\n",
    "                    if ((i,j) not in pairs):\n",
    "                        pairs.append((i,j))\n",
    "    return pairs\n",
    "\n",
    "test = [3,7,0,9,1,2,4,13,29,31,37,10,11,16]\n",
    "print (odd_product(test))"
   ]
  },
  {
   "cell_type": "code",
   "execution_count": 5,
   "metadata": {
    "collapsed": false
   },
   "outputs": [
    {
     "name": "stdout",
     "output_type": "stream",
     "text": [
      "[2, 3, 4, 5, 1, 1.5, 0, 7]\n",
      "Duplicity Exists\n"
     ]
    }
   ],
   "source": [
    "#C-1.5\n",
    "\n",
    "def distinct_check(X):\n",
    "    dist_nums = []\n",
    "    for i in X:\n",
    "        if i not in dist_nums:\n",
    "            dist_nums.append(i)\n",
    "    return dist_nums\n",
    "\n",
    "dist_nums = distinct_check([2,3,4,5,1,1,2,1,1.5,0,1,7,1])\n",
    "print (dist_nums)\n",
    "\n",
    "if dist_nums:\n",
    "    print ('Duplicity Exists')\n",
    "else:\n",
    "    print ('No duplicates, all are distinct')"
   ]
  },
  {
   "cell_type": "code",
   "execution_count": null,
   "metadata": {
    "collapsed": true
   },
   "outputs": [],
   "source": []
  }
 ],
 "metadata": {
  "kernelspec": {
   "display_name": "Python 3",
   "language": "python",
   "name": "python3"
  },
  "language_info": {
   "codemirror_mode": {
    "name": "ipython",
    "version": 3
   },
   "file_extension": ".py",
   "mimetype": "text/x-python",
   "name": "python",
   "nbconvert_exporter": "python",
   "pygments_lexer": "ipython3",
   "version": "3.6.6"
  }
 },
 "nbformat": 4,
 "nbformat_minor": 2
}
