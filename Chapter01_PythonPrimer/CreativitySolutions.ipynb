{
 "cells": [
  {
   "cell_type": "code",
   "execution_count": 2,
   "metadata": {
    "collapsed": false
   },
   "outputs": [
    {
     "name": "stdout",
     "output_type": "stream",
     "text": [
      "[20, -38, -16, 2, 0, 1, 7, -12, 10, 1, 8]\n",
      "[20, -38, -16, 2, 0, 1, 7, -12, 10, 1, 8]\n",
      "[20, -38, -16, 2, 0, 1, 7, -12, 10, 1, 8]\n"
     ]
    }
   ],
   "source": [
    "#C-1.13\n",
    "\n",
    "def ReversE(X):\n",
    "    return (X[::-1])\n",
    "\n",
    "v = [8,1,10,-12,7,1,0,2,-16,-38,20]\n",
    "\n",
    "print (list(reversed(v)))\n",
    "print (ReversE(v))\n",
    "v.reverse()\n",
    "print (v)"
   ]
  },
  {
   "cell_type": "code",
   "execution_count": 3,
   "metadata": {
    "collapsed": false
   },
   "outputs": [
    {
     "name": "stdout",
     "output_type": "stream",
     "text": [
      "[(3, 7), (3, 9), (3, 1), (3, 13), (3, 29), (3, 31), (3, 37), (3, 11), (7, 9), (7, 1), (7, 13), (7, 29), (7, 31), (7, 37), (7, 11), (9, 7), (9, 1), (9, 13), (9, 29), (9, 31), (9, 37), (9, 11), (1, 7), (1, 9), (1, 13), (1, 29), (1, 31), (1, 37), (1, 11), (13, 7), (13, 9), (13, 1), (13, 29), (13, 31), (13, 37), (13, 11), (29, 7), (29, 9), (29, 1), (29, 13), (29, 31), (29, 37), (29, 11), (31, 7), (31, 9), (31, 1), (31, 13), (31, 29), (31, 37), (31, 11), (37, 7), (37, 9), (37, 1), (37, 13), (37, 29), (37, 31), (37, 11), (11, 7), (11, 9), (11, 1), (11, 13), (11, 29), (11, 31), (11, 37)]\n"
     ]
    }
   ],
   "source": [
    "#C-1.14\n",
    "\n",
    "def odd_product(X):\n",
    "    pairs=[]\n",
    "    for i in X:\n",
    "        for j in X[1:]:\n",
    "            if ((i*j)%2 != 0):\n",
    "                if (i!=j):\n",
    "                    if ((i,j) not in pairs):\n",
    "                        pairs.append((i,j))\n",
    "    return pairs\n",
    "\n",
    "test = [3,7,0,9,1,2,4,13,29,31,37,10,11,16]\n",
    "print (odd_product(test))"
   ]
  },
  {
   "cell_type": "code",
   "execution_count": 5,
   "metadata": {
    "collapsed": false
   },
   "outputs": [
    {
     "name": "stdout",
     "output_type": "stream",
     "text": [
      "[2, 3, 4, 5, 1, 1.5, 0, 7]\n",
      "Duplicity Exists\n"
     ]
    }
   ],
   "source": [
    "#C-1.15\n",
    "\n",
    "def distinct_check(X):\n",
    "    dist_nums = []\n",
    "    for i in X:\n",
    "        if i not in dist_nums:\n",
    "            dist_nums.append(i)\n",
    "    return dist_nums\n",
    "\n",
    "dist_nums = distinct_check([2,3,4,5,1,1,2,1,1.5,0,1,7,1])\n",
    "print (dist_nums)\n",
    "\n",
    "if dist_nums:\n",
    "    print ('Duplicity Exists')\n",
    "else:\n",
    "    print ('No duplicates, all are distinct')"
   ]
  },
  {
   "cell_type": "code",
   "execution_count": 6,
   "metadata": {
    "collapsed": false
   },
   "outputs": [
    {
     "data": {
      "text/plain": [
       "[50.0, 60.0, 54.0, 78.0, 85.5, 69.5, 92.0]"
      ]
     },
     "execution_count": 6,
     "metadata": {},
     "output_type": "execute_result"
    }
   ],
   "source": [
    "#C-1.16\n",
    "\n",
    "def scale(data, factor):\n",
    "    for j in range(len(data)):\n",
    "        data[j]*=factor\n",
    "    return (data)\n",
    "\n",
    "X = [100,120,108,156,171,139,184]\n",
    "scale(X,0.5)"
   ]
  },
  {
   "cell_type": "markdown",
   "metadata": {},
   "source": [
    "+ X is an actual parameter, data is a formal parameter\n",
    "+ when the caller gives out a function call, the assignment of instances are done (data=X,factor=0.5) which are operated under local scope of the function `scale`"
   ]
  },
  {
   "cell_type": "code",
   "execution_count": 7,
   "metadata": {
    "collapsed": false
   },
   "outputs": [
    {
     "data": {
      "text/plain": [
       "([1000, 8018, 1578, 7821, 1820, 3821, 7319, 6197, 4382],\n",
       " [860.0,\n",
       "  6895.48,\n",
       "  1357.08,\n",
       "  6726.0599999999995,\n",
       "  1565.2,\n",
       "  3286.06,\n",
       "  6294.34,\n",
       "  5329.42,\n",
       "  3768.52])"
      ]
     },
     "execution_count": 7,
     "metadata": {},
     "output_type": "execute_result"
    }
   ],
   "source": [
    "#C-1.17\n",
    "\n",
    "def scale(data,factor):\n",
    "    new=[]\n",
    "    for val in data:\n",
    "        val *= factor\n",
    "        new.append(val)\n",
    "    return (data,new)\n",
    "\n",
    "X=[1000,8018,1578,7821,1820,3821,7319,6197,4382]\n",
    "scale(X,0.86)"
   ]
  },
  {
   "cell_type": "markdown",
   "metadata": {},
   "source": [
    "+ As you can observe here, the actual parameter given by caller is not altered but the new instance created under the scope of function is desired result obtained after scaling\n",
    "\n",
    "+ This is due to the fact that, we are not altering the original data entered by caller but extracting the elements one by one using iterator `val` and thereby altering it."
   ]
  },
  {
   "cell_type": "code",
   "execution_count": 5,
   "metadata": {
    "collapsed": false
   },
   "outputs": [
    {
     "name": "stdout",
     "output_type": "stream",
     "text": [
      "[0, 2, 6, 12, 20, 30, 42, 56, 72, 90]\n",
      "[0, 2, 6, 12, 20, 30, 42, 56, 72, 90]\n"
     ]
    }
   ],
   "source": [
    "#C-1.18\n",
    "\n",
    "iterms = 0\n",
    "seq = []\n",
    "for i in range(10):\n",
    "    iterms = iterms + (2*i)\n",
    "    seq.append(iterms)\n",
    "print (seq)\n",
    "seq_new = [k*(k-1) for k in range(1,11)]\n",
    "print (seq_new)"
   ]
  },
  {
   "cell_type": "code",
   "execution_count": 14,
   "metadata": {
    "collapsed": false
   },
   "outputs": [
    {
     "name": "stdout",
     "output_type": "stream",
     "text": [
      "['a', 'b', 'c', 'd', 'e', 'f', 'g', 'h', 'i', 'j', 'k', 'l', 'm', 'n', 'o', 'p', 'q', 'r', 's', 't', 'u', 'v', 'w', 'x', 'y', 'z']\n"
     ]
    }
   ],
   "source": [
    "#C-1.19\n",
    "\n",
    "import string\n",
    "test = string.ascii_lowercase\n",
    "\n",
    "print (list(test))"
   ]
  },
  {
   "cell_type": "code",
   "execution_count": 8,
   "metadata": {
    "collapsed": false
   },
   "outputs": [
    {
     "name": "stdout",
     "output_type": "stream",
     "text": [
      "[4, 10, 10, 2, 83, -12, 13, 6, 29, 74, -3, 28, 67, 56]\n",
      "[29, 56, 74, -12, 2, 10, 13, 6, -3, 4, 28, 67, 83, 10]\n",
      "[-12, -3, 6, 13, 4, 83, 56, 2, 74, 67, 29, 10, 10, 28]\n"
     ]
    }
   ],
   "source": [
    "#C-1.20\n",
    "\n",
    "import random\n",
    "\n",
    "X = [2,4,6,10,-3,-12,10,29,83,28,13,56,67,74]\n",
    "random.shuffle(X)\n",
    "print (X)\n",
    "random.shuffle(X)\n",
    "print (X)\n",
    "\n",
    "def shuff(data):\n",
    "    for i in range(0,len(data)):\n",
    "        rand_ind = random.randint(0,i)\n",
    "        var = data[rand_ind]\n",
    "        data[rand_ind] = data[i]\n",
    "        data[i] = var\n",
    "    return (data)\n",
    "print (shuff(X))"
   ]
  },
  {
   "cell_type": "code",
   "execution_count": null,
   "metadata": {
    "collapsed": true
   },
   "outputs": [],
   "source": [
    "#C-1.21\n",
    "\n",
    "data = []\n",
    "done = False\n",
    "while not done:\n",
    "    try:\n",
    "        entry = input('Enter an input from client side, Standard input is collected\\n')\n",
    "        data.append(entry)\n",
    "    except EOFError:\n",
    "        for i in range(len(data)-1,-1,-1):\n",
    "            print (data[i])\n",
    "            done = True"
   ]
  },
  {
   "cell_type": "code",
   "execution_count": 11,
   "metadata": {
    "collapsed": false
   },
   "outputs": [
    {
     "name": "stdout",
     "output_type": "stream",
     "text": [
      "10 -5 -6 9 45 -2 -3 80 34\n",
      "12 10 30 -42 45 1 -3 -90 -32\n",
      "[  120   -50  -180  -378  2025    -2     9 -7200 -1088]\n"
     ]
    },
    {
     "data": {
      "text/plain": [
       "[120, -50, -180, -378, 2025, -2, 9, -7200, -1088]"
      ]
     },
     "execution_count": 11,
     "metadata": {},
     "output_type": "execute_result"
    }
   ],
   "source": [
    "#C-1.22\n",
    "import numpy as np\n",
    "\n",
    "a = list(map(int,input().strip().split()))\n",
    "b = list(map(int,input().strip().split()))\n",
    "\n",
    "c = np.multiply(a,b)\n",
    "print (c)\n",
    "\n",
    "_c_ = [0]*len(a)\n",
    "for i in range(len(a)):\n",
    "    _c_[i] = a[i]*b[i]\n",
    "_c_"
   ]
  },
  {
   "cell_type": "code",
   "execution_count": 13,
   "metadata": {
    "collapsed": false
   },
   "outputs": [
    {
     "name": "stdout",
     "output_type": "stream",
     "text": [
      "Don’t try buffer overflow attacks in Python\n"
     ]
    },
    {
     "data": {
      "text/plain": [
       "[0.0,\n",
       " 0.5,\n",
       " 1.0,\n",
       " 1.5,\n",
       " 2.0,\n",
       " 2.5,\n",
       " 3.0,\n",
       " 3.5,\n",
       " 4.0,\n",
       " 4.5,\n",
       " 5.0,\n",
       " 5.5,\n",
       " 6.0,\n",
       " 6.5,\n",
       " 7.0,\n",
       " 7.5,\n",
       " 8.0,\n",
       " 8.5,\n",
       " 9.0,\n",
       " 9.5,\n",
       " 10.0,\n",
       " 10.5,\n",
       " 11.0,\n",
       " 11.5,\n",
       " 12.0,\n",
       " 12.5,\n",
       " 13.0,\n",
       " 13.5,\n",
       " 14.0,\n",
       " 14.5]"
      ]
     },
     "execution_count": 13,
     "metadata": {},
     "output_type": "execute_result"
    }
   ],
   "source": [
    "#C-1.23\n",
    "\n",
    "c = ['']*30\n",
    "try:\n",
    "    for i in range(60):\n",
    "        c[i] = i*0.5\n",
    "except IndexError:\n",
    "    print ('Don’t try buffer overflow attacks in Python')\n",
    "c"
   ]
  },
  {
   "cell_type": "code",
   "execution_count": 17,
   "metadata": {
    "collapsed": false
   },
   "outputs": [
    {
     "name": "stdout",
     "output_type": "stream",
     "text": [
      "hello world! i am your natural language ui jarvis\n",
      "Number of vowels is 18\n"
     ]
    }
   ],
   "source": [
    "#C-1.24\n",
    "\n",
    "sample = 'Hello world! I am your natural language UI Jarvis'\n",
    "sample = sample.lower()\n",
    "print (sample)\n",
    "print ('Number of vowels is {0}'.format(sample.count('a')+sample.count('e')+sample.count('i')+sample.count('o')+sample.count('u')))"
   ]
  },
  {
   "cell_type": "code",
   "execution_count": null,
   "metadata": {
    "collapsed": true
   },
   "outputs": [],
   "source": []
  }
 ],
 "metadata": {
  "kernelspec": {
   "display_name": "Python 3",
   "language": "python",
   "name": "python3"
  },
  "language_info": {
   "codemirror_mode": {
    "name": "ipython",
    "version": 3
   },
   "file_extension": ".py",
   "mimetype": "text/x-python",
   "name": "python",
   "nbconvert_exporter": "python",
   "pygments_lexer": "ipython3",
   "version": "3.6.6"
  }
 },
 "nbformat": 4,
 "nbformat_minor": 2
}
